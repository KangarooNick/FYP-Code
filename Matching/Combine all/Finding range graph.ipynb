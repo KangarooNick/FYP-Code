{
 "cells": [
  {
   "cell_type": "code",
   "execution_count": 1,
   "metadata": {},
   "outputs": [],
   "source": [
    "import pandas as pd"
   ]
  },
  {
   "cell_type": "markdown",
   "metadata": {},
   "source": [
    "Temperature"
   ]
  },
  {
   "cell_type": "code",
   "execution_count": 2,
   "metadata": {},
   "outputs": [],
   "source": [
    "# Load the data from the Excel file\n",
    "data = pd.read_excel('Combine all.xlsx', parse_dates=['@timestamp'], index_col='@timestamp')\n",
    "\n",
    "# Group the data by temperature with ranges\n",
    "grouped = data.groupby(pd.cut(data['temperature'], range(5, 36, 5)))\n",
    "\n"
   ]
  },
  {
   "cell_type": "code",
   "execution_count": null,
   "metadata": {},
   "outputs": [],
   "source": [
    "# Convert each group into their own excel file\n",
    "for group, df in grouped:\n",
    "    # Format the output file name\n",
    "    file_name = f\"Rainfall_{group.left}_{group.right}.xlsx\"\n",
    "    df.to_excel(file_name)"
   ]
  },
  {
   "cell_type": "code",
   "execution_count": 3,
   "metadata": {},
   "outputs": [
    {
     "name": "stdout",
     "output_type": "stream",
     "text": [
      "temperature\n",
      "(5, 10]            NaN\n",
      "(10, 15]     94.942002\n",
      "(15, 20]     82.589195\n",
      "(20, 25]     77.385908\n",
      "(25, 30]    123.744722\n",
      "(30, 35]    162.210323\n",
      "Name: generation, dtype: float64\n"
     ]
    }
   ],
   "source": [
    "#goruping the mean generation in each group\n",
    "grouped_mean = grouped.mean()\n",
    "grouped_mean_generation = grouped['generation'].mean()\n",
    "print(grouped_mean_generation)\n",
    "\n"
   ]
  },
  {
   "cell_type": "code",
   "execution_count": 19,
   "metadata": {},
   "outputs": [],
   "source": [
    "#export to cell\n",
    "grouped_mean_generation.to_excel('grouped_mean_generation_temperature.xlsx')\n"
   ]
  },
  {
   "cell_type": "markdown",
   "metadata": {},
   "source": [
    "Relative Humidity"
   ]
  },
  {
   "cell_type": "code",
   "execution_count": 8,
   "metadata": {},
   "outputs": [
    {
     "name": "stdout",
     "output_type": "stream",
     "text": [
      "relative humidity\n",
      "(20, 30]     118.602379\n",
      "(30, 40]     131.601770\n",
      "(40, 50]     121.980595\n",
      "(50, 60]     124.410119\n",
      "(60, 70]     114.069371\n",
      "(70, 80]     129.469503\n",
      "(80, 90]     108.058518\n",
      "(90, 100]     42.520513\n",
      "Name: generation, dtype: float64\n"
     ]
    }
   ],
   "source": [
    "# Load the data from the Excel file\n",
    "data = pd.read_excel('Combine all.xlsx', parse_dates=['@timestamp'], index_col='@timestamp')\n",
    "\n",
    "# Group the data by relative humidity with ranges\n",
    "grouped = data.groupby(pd.cut(data['relative humidity'], range(20,101,10)))\n",
    "\n",
    "#goruping the mean generation in each group\n",
    "grouped_mean = grouped.mean()\n",
    "grouped_mean_generation = grouped['generation'].mean()\n",
    "print(grouped_mean_generation)"
   ]
  },
  {
   "cell_type": "markdown",
   "metadata": {},
   "source": [
    "Solar Irradiance"
   ]
  },
  {
   "cell_type": "code",
   "execution_count": 9,
   "metadata": {},
   "outputs": [
    {
     "name": "stdout",
     "output_type": "stream",
     "text": [
      "W/m2\n",
      "(0, 1000]          15.127784\n",
      "(1000, 2000]       32.757880\n",
      "(2000, 3000]       62.067696\n",
      "(3000, 4000]       92.001912\n",
      "(4000, 5000]      102.968086\n",
      "(5000, 6000]      123.451870\n",
      "(6000, 7000]      136.842039\n",
      "(7000, 8000]      155.361702\n",
      "(8000, 9000]      176.918877\n",
      "(9000, 10000]     197.361313\n",
      "(10000, 11000]    206.473238\n",
      "Name: generation, dtype: float64\n"
     ]
    }
   ],
   "source": [
    "# Load the data from the Excel file\n",
    "data = pd.read_excel('Combine all.xlsx', parse_dates=['@timestamp'], index_col='@timestamp')\n",
    "\n",
    "# Group the data by solar irraidance with ranges\n",
    "grouped = data.groupby(pd.cut(data['W/m2'], range(0, 11001, 1000)))\n",
    "\n",
    "#goruping the mean generation in each group\n",
    "grouped_mean = grouped.mean()\n",
    "grouped_mean_generation = grouped['generation'].mean()\n",
    "print(grouped_mean_generation)"
   ]
  },
  {
   "cell_type": "markdown",
   "metadata": {},
   "source": [
    "Rainfall"
   ]
  },
  {
   "cell_type": "code",
   "execution_count": 11,
   "metadata": {},
   "outputs": [
    {
     "name": "stdout",
     "output_type": "stream",
     "text": [
      "Rainfall(mm)\n",
      "(0, 10]       80.316330\n",
      "(10, 20]      74.732240\n",
      "(20, 30]      62.963347\n",
      "(30, 40]      53.152860\n",
      "(40, 50]      47.532377\n",
      "(50, 60]            NaN\n",
      "(60, 70]            NaN\n",
      "(70, 80]            NaN\n",
      "(80, 90]      34.295964\n",
      "(90, 100]     10.908140\n",
      "(100, 110]    14.178296\n",
      "Name: generation, dtype: float64\n"
     ]
    }
   ],
   "source": [
    "# Load the data from the Excel file\n",
    "data = pd.read_excel('Combine all.xlsx', parse_dates=['@timestamp'], index_col='@timestamp')\n",
    "\n",
    "# Group the data by rainfall with ranges\n",
    "grouped = data.groupby(pd.cut(data['Rainfall(mm)'], range(0, 111, 10)))\n",
    "\n",
    "#goruping the mean generation in each group\n",
    "grouped_mean = grouped.mean()\n",
    "grouped_mean_generation = grouped['generation'].mean()\n",
    "print(grouped_mean_generation)"
   ]
  },
  {
   "cell_type": "markdown",
   "metadata": {},
   "source": [
    "Temperature & Solar Irradiance"
   ]
  },
  {
   "cell_type": "code",
   "execution_count": 13,
   "metadata": {},
   "outputs": [
    {
     "name": "stdout",
     "output_type": "stream",
     "text": [
      "temperature\n",
      "(10, 15]    3231.750001\n",
      "(15, 20]    3397.065580\n",
      "(20, 25]    3725.008242\n",
      "(25, 30]    5818.275709\n",
      "(30, 35]    7479.457072\n",
      "Name: W/m2, dtype: float64\n"
     ]
    }
   ],
   "source": [
    "# Load the data from the Excel file\n",
    "data = pd.read_excel('Combine all.xlsx', parse_dates=['@timestamp'], index_col='@timestamp')\n",
    "\n",
    "# Group the data by rainfall with ranges\n",
    "grouped = data.groupby(pd.cut(data['temperature'], range(10, 36, 5)))\n",
    "\n",
    "#goruping the mean generation in each group\n",
    "grouped_mean = grouped.mean()\n",
    "grouped_mean_generation = grouped['W/m2'].mean()\n",
    "print(grouped_mean_generation)"
   ]
  },
  {
   "cell_type": "code",
   "execution_count": 14,
   "metadata": {},
   "outputs": [],
   "source": [
    "#export to cell\n",
    "grouped_mean_generation.to_excel('grouped_mean_solar irradiance_temperature.xlsx')"
   ]
  },
  {
   "cell_type": "code",
   "execution_count": null,
   "metadata": {},
   "outputs": [],
   "source": []
  }
 ],
 "metadata": {
  "kernelspec": {
   "display_name": "Python 3",
   "language": "python",
   "name": "python3"
  },
  "language_info": {
   "codemirror_mode": {
    "name": "ipython",
    "version": 3
   },
   "file_extension": ".py",
   "mimetype": "text/x-python",
   "name": "python",
   "nbconvert_exporter": "python",
   "pygments_lexer": "ipython3",
   "version": "3.11.8"
  }
 },
 "nbformat": 4,
 "nbformat_minor": 2
}
