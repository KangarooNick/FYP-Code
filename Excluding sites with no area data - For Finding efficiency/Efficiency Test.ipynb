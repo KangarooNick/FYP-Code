{
 "cells": [
  {
   "cell_type": "code",
   "execution_count": 1,
   "metadata": {},
   "outputs": [],
   "source": [
    "import pandas as pd"
   ]
  },
  {
   "cell_type": "code",
   "execution_count": 2,
   "metadata": {},
   "outputs": [
    {
     "name": "stdout",
     "output_type": "stream",
     "text": [
      "    @timestamp  generation        Area\n",
      "0   2022-12-19      56.987  100.780992\n",
      "1   2022-12-20      55.960  100.780992\n",
      "2   2022-12-21      56.922  100.780992\n",
      "3   2022-12-22      57.116  100.780992\n",
      "4   2022-12-23      58.911  100.780992\n",
      "..         ...         ...         ...\n",
      "252 2023-08-28      57.936  100.780992\n",
      "253 2023-08-29      75.645  100.780992\n",
      "254 2023-08-30      95.078  100.780992\n",
      "255 2023-08-31      63.840  100.780992\n",
      "256 2023-09-01       0.651  100.780992\n",
      "\n",
      "[257 rows x 3 columns]\n"
     ]
    }
   ],
   "source": [
    "\n",
    "# Read the Excel file\n",
    "df = pd.read_excel('Academic_Building_Zone_A5.xlsx')\n",
    "\n",
    "# Display the dataframe\n",
    "print(df)\n"
   ]
  },
  {
   "cell_type": "code",
   "execution_count": null,
   "metadata": {},
   "outputs": [],
   "source": []
  }
 ],
 "metadata": {
  "kernelspec": {
   "display_name": "Python 3",
   "language": "python",
   "name": "python3"
  },
  "language_info": {
   "codemirror_mode": {
    "name": "ipython",
    "version": 3
   },
   "file_extension": ".py",
   "mimetype": "text/x-python",
   "name": "python",
   "nbconvert_exporter": "python",
   "pygments_lexer": "ipython3",
   "version": "3.11.8"
  }
 },
 "nbformat": 4,
 "nbformat_minor": 2
}
