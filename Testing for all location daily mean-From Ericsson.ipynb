{
 "cells": [
  {
   "cell_type": "code",
   "execution_count": 20,
   "metadata": {},
   "outputs": [
    {
     "name": "stdout",
     "output_type": "stream",
     "text": [
      "Daily Mean Values:\n",
      "            generation\n",
      "@timestamp            \n",
      "2022-09-01  126.988209\n",
      "2022-09-02  125.065116\n",
      "2022-09-03  155.135953\n",
      "2022-09-04  156.851605\n",
      "2022-09-05  134.068419\n",
      "...                ...\n",
      "2023-08-28  117.861375\n",
      "2023-08-29  145.989179\n",
      "2023-08-30  188.437911\n",
      "2023-08-31  123.211286\n",
      "2023-09-01    1.149980\n",
      "\n",
      "[366 rows x 1 columns]\n"
     ]
    }
   ],
   "source": [
    "import pandas as pd\n",
    "import os\n",
    "\n",
    "# Specify the folder path\n",
    "folder_path = 'Whole Year Testing'\n",
    "\n",
    "# Create an empty list to store the modified DataFrames\n",
    "modified_dataframes = []\n",
    "\n",
    "# Read and process each Excel file in the folder\n",
    "for file in os.listdir(folder_path):\n",
    "    if file.endswith('.xlsx'):\n",
    "        # print(file)\n",
    "        file_path = os.path.join(folder_path, file)\n",
    "        df = pd.read_excel(file_path, parse_dates=['@timestamp'], index_col='@timestamp')\n",
    "        \n",
    "        # Delete the two unwanted columns, use try except to avoid error if the columns are not present\n",
    "        columns_to_delete = ['type', 'location']\n",
    "        try:\n",
    "            df = df.drop(columns_to_delete, axis=1)\n",
    "        except KeyError:\n",
    "            pass\n",
    "        \n",
    "        # Remove rows with a data value of \"0\"\n",
    "        df = df[df != 0].dropna()\n",
    "        \n",
    "        # Append the modified DataFrame to the list\n",
    "        modified_dataframes.append(df)\n",
    "\n",
    "# Concatenate the list of modified DataFrames into a single DataFrame\n",
    "combined_df = pd.concat(modified_dataframes)\n",
    "\n",
    "combined_df = combined_df.sort_values('@timestamp')\n",
    "\n",
    "# Group the data by day and calculate the mean for each day\n",
    "daily_means = combined_df.resample('D').mean()\n",
    "\n",
    "# Output the daily means excel file\n",
    "daily_means.to_excel('daily_means.xlsx')\n",
    "\n",
    "\n",
    "# Print the daily mean values\n",
    "print(\"Daily Mean Values:\")\n",
    "print(daily_means)"
   ]
  },
  {
   "cell_type": "code",
   "execution_count": 7,
   "metadata": {},
   "outputs": [
    {
     "name": "stdout",
     "output_type": "stream",
     "text": [
      "Collecting openpyxl\n",
      "  Downloading openpyxl-3.1.2-py2.py3-none-any.whl (249 kB)\n",
      "     ---------------------------------------- 0.0/250.0 kB ? eta -:--:--\n",
      "     ---------------------------------------- 0.0/250.0 kB ? eta -:--:--\n",
      "     - -------------------------------------- 10.2/250.0 kB ? eta -:--:--\n",
      "     ---- -------------------------------- 30.7/250.0 kB 435.7 kB/s eta 0:00:01\n",
      "     ---------------- ------------------- 112.6/250.0 kB 819.2 kB/s eta 0:00:01\n",
      "     -------------------------------------- 250.0/250.0 kB 1.5 MB/s eta 0:00:00\n",
      "Collecting et-xmlfile (from openpyxl)\n",
      "  Downloading et_xmlfile-1.1.0-py3-none-any.whl (4.7 kB)\n",
      "Installing collected packages: et-xmlfile, openpyxl\n",
      "Successfully installed et-xmlfile-1.1.0 openpyxl-3.1.2\n",
      "Note: you may need to restart the kernel to use updated packages.\n"
     ]
    }
   ],
   "source": [
    "# Requirements\n",
    "\n",
    "%pip install openpyxl\n",
    "%pip install pandas\n"
   ]
  }
 ],
 "metadata": {
  "kernelspec": {
   "display_name": "Python 3",
   "language": "python",
   "name": "python3"
  },
  "language_info": {
   "codemirror_mode": {
    "name": "ipython",
    "version": 3
   },
   "file_extension": ".py",
   "mimetype": "text/x-python",
   "name": "python",
   "nbconvert_exporter": "python",
   "pygments_lexer": "ipython3",
   "version": "3.11.8"
  }
 },
 "nbformat": 4,
 "nbformat_minor": 2
}
