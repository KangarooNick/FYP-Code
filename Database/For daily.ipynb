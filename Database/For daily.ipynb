{
 "cells": [
  {
   "cell_type": "code",
   "execution_count": 1,
   "metadata": {},
   "outputs": [],
   "source": [
    "import pandas as pd\n",
    "\n",
    "# Load the data from the Excel file\n",
    "data = pd.read_excel('UST_SQ37-48_Flexible_PV.xlsx', parse_dates=['@timestamp'], index_col='@timestamp')\n",
    "\n",
    "# Resample the data to daily resolution\n",
    "daily_data = data.resample('D').sum()\n",
    "\n",
    "# Save the resampled data to a new Excel file\n",
    "daily_data.to_excel('UST_SQ37-48_Flexible_PV.xlsx')"
   ]
  },
  {
   "cell_type": "code",
   "execution_count": null,
   "metadata": {},
   "outputs": [],
   "source": []
  }
 ],
 "metadata": {
  "kernelspec": {
   "display_name": "Python 3",
   "language": "python",
   "name": "python3"
  },
  "language_info": {
   "codemirror_mode": {
    "name": "ipython",
    "version": 3
   },
   "file_extension": ".py",
   "mimetype": "text/x-python",
   "name": "python",
   "nbconvert_exporter": "python",
   "pygments_lexer": "ipython3",
   "version": "3.11.8"
  }
 },
 "nbformat": 4,
 "nbformat_minor": 2
}
