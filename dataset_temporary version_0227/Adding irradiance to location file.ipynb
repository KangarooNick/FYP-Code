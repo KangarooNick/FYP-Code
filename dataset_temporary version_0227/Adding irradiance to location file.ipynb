{
 "cells": [
  {
   "cell_type": "code",
   "execution_count": 1,
   "metadata": {},
   "outputs": [
    {
     "ename": "ModuleNotFoundError",
     "evalue": "No module named 'pandas'",
     "output_type": "error",
     "traceback": [
      "\u001b[1;31m---------------------------------------------------------------------------\u001b[0m",
      "\u001b[1;31mModuleNotFoundError\u001b[0m                       Traceback (most recent call last)",
      "Cell \u001b[1;32mIn[1], line 1\u001b[0m\n\u001b[1;32m----> 1\u001b[0m \u001b[38;5;28;01mimport\u001b[39;00m \u001b[38;5;21;01mpandas\u001b[39;00m \u001b[38;5;28;01mas\u001b[39;00m \u001b[38;5;21;01mpd\u001b[39;00m\n\u001b[0;32m      2\u001b[0m \u001b[38;5;28;01mimport\u001b[39;00m \u001b[38;5;21;01mnumpy\u001b[39;00m \u001b[38;5;28;01mas\u001b[39;00m \u001b[38;5;21;01mnp\u001b[39;00m\n\u001b[0;32m      3\u001b[0m \u001b[38;5;28;01mimport\u001b[39;00m \u001b[38;5;21;01mdatetime\u001b[39;00m\n",
      "\u001b[1;31mModuleNotFoundError\u001b[0m: No module named 'pandas'"
     ]
    }
   ],
   "source": [
    "import pandas as pd\n",
    "import numpy as np\n",
    "import datetime"
   ]
  },
  {
   "cell_type": "code",
   "execution_count": 10,
   "metadata": {},
   "outputs": [
    {
     "name": "stdout",
     "output_type": "stream",
     "text": [
      "Collecting openpyxl\n",
      "  Downloading openpyxl-3.1.2-py2.py3-none-any.whl.metadata (2.5 kB)\n",
      "Collecting et-xmlfile (from openpyxl)\n",
      "  Downloading et_xmlfile-1.1.0-py3-none-any.whl.metadata (1.8 kB)\n",
      "Using cached openpyxl-3.1.2-py2.py3-none-any.whl (249 kB)\n",
      "Using cached et_xmlfile-1.1.0-py3-none-any.whl (4.7 kB)\n",
      "Installing collected packages: et-xmlfile, openpyxl\n",
      "Successfully installed et-xmlfile-1.1.0 openpyxl-3.1.2\n",
      "Note: you may need to restart the kernel to use updated packages.\n"
     ]
    }
   ],
   "source": [
    "%pip install openpyxl\n"
   ]
  },
  {
   "cell_type": "code",
   "execution_count": 25,
   "metadata": {},
   "outputs": [
    {
     "data": {
      "text/html": [
       "<div>\n",
       "<style scoped>\n",
       "    .dataframe tbody tr th:only-of-type {\n",
       "        vertical-align: middle;\n",
       "    }\n",
       "\n",
       "    .dataframe tbody tr th {\n",
       "        vertical-align: top;\n",
       "    }\n",
       "\n",
       "    .dataframe thead th {\n",
       "        text-align: right;\n",
       "    }\n",
       "</style>\n",
       "<table border=\"1\" class=\"dataframe\">\n",
       "  <thead>\n",
       "    <tr style=\"text-align: right;\">\n",
       "      <th></th>\n",
       "      <th>Time</th>\n",
       "      <th>Irradiance (W/m2)</th>\n",
       "    </tr>\n",
       "  </thead>\n",
       "  <tbody>\n",
       "    <tr>\n",
       "      <th>0</th>\n",
       "      <td>2022-09-01 00:00:00</td>\n",
       "      <td>18.619133</td>\n",
       "    </tr>\n",
       "    <tr>\n",
       "      <th>1</th>\n",
       "      <td>2022-09-01 00:15:00</td>\n",
       "      <td>19.185267</td>\n",
       "    </tr>\n",
       "    <tr>\n",
       "      <th>2</th>\n",
       "      <td>2022-09-01 00:30:00</td>\n",
       "      <td>19.824400</td>\n",
       "    </tr>\n",
       "    <tr>\n",
       "      <th>3</th>\n",
       "      <td>2022-09-01 00:45:00</td>\n",
       "      <td>20.102933</td>\n",
       "    </tr>\n",
       "    <tr>\n",
       "      <th>4</th>\n",
       "      <td>2022-09-01 01:00:00</td>\n",
       "      <td>20.197867</td>\n",
       "    </tr>\n",
       "    <tr>\n",
       "      <th>...</th>\n",
       "      <td>...</td>\n",
       "      <td>...</td>\n",
       "    </tr>\n",
       "    <tr>\n",
       "      <th>35035</th>\n",
       "      <td>2023-08-31 22:45:00</td>\n",
       "      <td>35.965400</td>\n",
       "    </tr>\n",
       "    <tr>\n",
       "      <th>35036</th>\n",
       "      <td>2023-08-31 23:00:00</td>\n",
       "      <td>36.038467</td>\n",
       "    </tr>\n",
       "    <tr>\n",
       "      <th>35037</th>\n",
       "      <td>2023-08-31 23:15:00</td>\n",
       "      <td>36.275000</td>\n",
       "    </tr>\n",
       "    <tr>\n",
       "      <th>35038</th>\n",
       "      <td>2023-08-31 23:30:00</td>\n",
       "      <td>36.937067</td>\n",
       "    </tr>\n",
       "    <tr>\n",
       "      <th>35039</th>\n",
       "      <td>2023-08-31 23:45:00</td>\n",
       "      <td>37.657533</td>\n",
       "    </tr>\n",
       "  </tbody>\n",
       "</table>\n",
       "<p>35040 rows × 2 columns</p>\n",
       "</div>"
      ],
      "text/plain": [
       "                     Time  Irradiance (W/m2)\n",
       "0     2022-09-01 00:00:00          18.619133\n",
       "1     2022-09-01 00:15:00          19.185267\n",
       "2     2022-09-01 00:30:00          19.824400\n",
       "3     2022-09-01 00:45:00          20.102933\n",
       "4     2022-09-01 01:00:00          20.197867\n",
       "...                   ...                ...\n",
       "35035 2023-08-31 22:45:00          35.965400\n",
       "35036 2023-08-31 23:00:00          36.038467\n",
       "35037 2023-08-31 23:15:00          36.275000\n",
       "35038 2023-08-31 23:30:00          36.937067\n",
       "35039 2023-08-31 23:45:00          37.657533\n",
       "\n",
       "[35040 rows x 2 columns]"
      ]
     },
     "execution_count": 25,
     "metadata": {},
     "output_type": "execute_result"
    }
   ],
   "source": [
    "# read excel\n",
    "df = pd.read_excel(r'Meteorological dataset\\required irradiance-M15.xlsx')\n",
    "df\n",
    "\n"
   ]
  },
  {
   "cell_type": "code",
   "execution_count": 3,
   "metadata": {},
   "outputs": [],
   "source": [
    "#add this dataframe as a new column to all the csv files in a folder\n",
    "import os\n",
    "import csv\n",
    "import pandas as pd\n",
    "import numpy as np\n",
    "import datetime\n",
    "import glob"
   ]
  },
  {
   "cell_type": "code",
   "execution_count": 31,
   "metadata": {},
   "outputs": [],
   "source": [
    "import os\n",
    "import csv\n",
    "\n",
    "# A file with two columns, an irradiance and the timestamp \n",
    "irradianceDf = pd.read_excel(r'Meteorological dataset\\required irradiance-M15.xlsx')\n",
    "\n",
    "# Add the irradiance as a new column to all the csv files corresponding to the timestamp\n",
    "path = r'PV generation dataset\\PV stations with optimizer in 0922-0823 - Testing for Area and Irradiance'\n",
    "all_files = glob.glob(path + \"/*.csv\")\n",
    "for file in all_files:\n",
    "    filename = os.path.basename(file)\n",
    "    output_file = os.path.join(r'PV generation dataset\\output', filename)\n",
    "    \n",
    "    with open(file, 'r') as input_file, open(output_file, 'w', newline='') as output_file:\n",
    "        reader = csv.reader(input_file)\n",
    "        writer = csv.writer(output_file)\n",
    "        \n",
    "        # Read the header row\n",
    "        header = next(reader)\n",
    "\n",
    "        # Add the new column name to the header\n",
    "        header.append('Irradiance (W/m2)')\n",
    "\n",
    "        # Write the updated header to the output file\n",
    "        writer.writerow(header)\n",
    "\n",
    "        # Iterate over the remaining rows\n",
    "        for row in reader:\n",
    "            \n",
    "            # Check if the dataframe is not empty\n",
    "            if not irradianceDf.empty:\n",
    "                # Add the corresponding value from irradianceDf of that timestamp to the row \n",
    "                row.append(irradianceDf.loc[irradianceDf['Time'] == row[0], 'Irradiance (W/m2)'].values[0])\n",
    "            else:\n",
    "                # Add a default value if the dataframe is empty\n",
    "                row.append()\n",
    "            \n",
    "            # Write the updated row to the output file\n",
    "            writer.writerow(row)\n",
    "    \n",
    "    break\n",
    "    \n",
    "    "
   ]
  }
 ],
 "metadata": {
  "kernelspec": {
   "display_name": "Python 3",
   "language": "python",
   "name": "python3"
  },
  "language_info": {
   "codemirror_mode": {
    "name": "ipython",
    "version": 3
   },
   "file_extension": ".py",
   "mimetype": "text/x-python",
   "name": "python",
   "nbconvert_exporter": "python",
   "pygments_lexer": "ipython3",
   "version": "3.11.8"
  }
 },
 "nbformat": 4,
 "nbformat_minor": 2
}
